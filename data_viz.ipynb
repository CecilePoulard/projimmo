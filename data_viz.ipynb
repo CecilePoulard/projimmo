{
 "cells": [
  {
   "cell_type": "code",
   "execution_count": 1,
   "metadata": {},
   "outputs": [],
   "source": [
    "import pandas as pd\n",
    "from pathlib import Path\n",
    "import seaborn as sns\n",
    "from scipy import stats\n",
    "\n",
    "from projimmo.data import *\n",
    "from projimmo.preprocessor import *"
   ]
  },
  {
   "cell_type": "code",
   "execution_count": null,
   "metadata": {},
   "outputs": [],
   "source": [
    "query = f\"\"\"\n",
    "        SELECT *\n",
    "        FROM `{GCP_PROJECT}`.{BQ_DATASET}.DVF_{DATA_YEAR}\n",
    "    \"\"\"\n",
    "#chemin d'accès à nos fichiers locaux\n",
    "data_query_cache_path=Path(f\"raw_data/valeursfoncieres-{DATA_YEAR}.txt\")\n",
    "\n",
    "# import de nos data, ici à partir du fichier mais plus tard dans la base de data de bigquer\n",
    "df= get_data_with_cache(query=query,\n",
    "gcp_project=GCP_PROJECT,\n",
    "        cache_path=data_query_cache_path,\n",
    "        data_has_header=True\n",
    "   )\n",
    "\n",
    "#Pour écrire dans big query le df notre choix\n",
    "#load_data_to_bq(\n",
    "#        df_de_notre_choix,\n",
    " #       gcp_project=GCP_PROJECT,\n",
    " #       bq_dataset=BQ_DATASET,\n",
    " #       table=f'processed_{DATA_SIZE}',\n",
    " #       truncate=True\n",
    "  #  )\n",
    "#appel à la fonction clean_data\n",
    "df_0=clean_data(df)\n",
    "#appel à la fonction clean_outliers\n",
    "df_1=clean_outliers(df_0)\n",
    "#on passe notre df dans la pipeline\n",
    "df_2=preprocess_features(df_1)"
   ]
  }
 ],
 "metadata": {
  "kernelspec": {
   "display_name": "projimmo",
   "language": "python",
   "name": "python3"
  },
  "language_info": {
   "codemirror_mode": {
    "name": "ipython",
    "version": 3
   },
   "file_extension": ".py",
   "mimetype": "text/x-python",
   "name": "python",
   "nbconvert_exporter": "python",
   "pygments_lexer": "ipython3",
   "version": "3.10.6"
  }
 },
 "nbformat": 4,
 "nbformat_minor": 2
}
