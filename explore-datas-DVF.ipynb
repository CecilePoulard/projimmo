{
 "cells": [
  {
   "cell_type": "markdown",
   "metadata": {},
   "source": [
    "#Etude des données"
   ]
  },
  {
   "cell_type": "code",
   "execution_count": 59,
   "metadata": {},
   "outputs": [
    {
     "data": {
      "text/plain": [
       "No disposition                     0\n",
       "Date mutation                      0\n",
       "Nature mutation                    0\n",
       "Valeur fonciere                    0\n",
       "Type de voie                 1375213\n",
       "Code postal                     1509\n",
       "Nombre de lots                     0\n",
       "sum_carrez                         0\n",
       "Code type local              1343847\n",
       "Surface reelle bati          1346094\n",
       "Nombre pieces principales    1346094\n",
       "Surface terrain               988410\n",
       "dtype: int64"
      ]
     },
     "execution_count": 59,
     "metadata": {},
     "output_type": "execute_result"
    }
   ],
   "source": [
    "df_vente = df_filtered[df_filtered['Nature mutation'] == 'Vente'].copy()\n",
    "df_vente.columns\n",
    "#df_vente['sum_carrez']=float(df_vente['Surface Carrez du 1er lot'])+float(df_vente['Surface Carrez du 2eme lot'])+float(df_vente['Surface Carrez du 3eme lot'])+float(df_vente['Surface Carrez du 4eme lot'])+float(df_vente['Surface Carrez du 5eme lot'])\n",
    "# df_vente[df_vente['Surface Carrez du 1er lot'].notna()]\n",
    "df_vente.head()\n",
    "df_vente[df_vente['Surface Carrez du 1er lot'].notna()]\n",
    "\n",
    "# Fonction pour nettoyer et convertir les chaînes en float\n",
    "def convert_to_float(value):\n",
    "    if pd.isna(value):\n",
    "        return 0.\n",
    "    return float(value.replace(',', '.'))\n",
    "# Appliquer la fonction de conversion à la colonne\n",
    "df_vente['Surface Carrez du 1er lot'] = df_vente['Surface Carrez du 1er lot'].apply(convert_to_float)\n",
    "df_vente['Surface Carrez du 2eme lot'] = df_vente['Surface Carrez du 2eme lot'].apply(convert_to_float)\n",
    "df_vente['Surface Carrez du 3eme lot'] = df_vente['Surface Carrez du 3eme lot'].apply(convert_to_float)\n",
    "df_vente['Surface Carrez du 4eme lot'] = df_vente['Surface Carrez du 4eme lot'].apply(convert_to_float)\n",
    "df_vente['Surface Carrez du 5eme lot'] = df_vente['Surface Carrez du 5eme lot'].apply(convert_to_float)\n",
    "df_vente[df_vente['Surface Carrez du 1er lot'].notna()]\n",
    "\n",
    "df_vente['sum_carrez']=df_vente['Surface Carrez du 1er lot']\\\n",
    "                        + df_vente['Surface Carrez du 2eme lot']\\\n",
    "                        +df_vente['Surface Carrez du 3eme lot']\\\n",
    "                        +df_vente['Surface Carrez du 4eme lot']\\\n",
    "                        +df_vente['Surface Carrez du 5eme lot']\n",
    "\n",
    "df_filtered_2=df_vente[['No disposition', 'Date mutation', 'Nature mutation', 'Valeur fonciere',\n",
    "       'Type de voie', 'Code postal', 'Nombre de lots',  'sum_carrez',\n",
    "       'Code type local', 'Surface reelle bati', 'Nombre pieces principales',\n",
    "       'Surface terrain']]\n",
    "\n",
    "df_filtered_2.isna().sum()"
   ]
  },
  {
   "cell_type": "code",
   "execution_count": 5,
   "metadata": {},
   "outputs": [
    {
     "name": "stderr",
     "output_type": "stream",
     "text": [
      "/tmp/ipykernel_3483/143961459.py:7: DtypeWarning: Columns (14,18,23,24,26,28,29,31,32,33,41) have mixed types. Specify dtype option on import or set low_memory=False.\n",
      "  df = pd.read_csv(\"raw_data/valeursfoncieres-2023.txt\", sep=\"|\").copy()\n"
     ]
    }
   ],
   "source": [
    "# importing pandas\n",
    "import pandas as pd\n",
    "\n",
    "# read text file into pandas DataFrame\n",
    "df = pd.read_csv(\"raw_data/valeursfoncieres-2023.txt\", sep=\"|\").copy()\n",
    "\n",
    "\n",
    "# Sélectionner les colonnes d'intérêt\n",
    "cols = ['No disposition', 'Date mutation', 'Nature mutation', 'Valeur fonciere',\n",
    "        'Type de voie', 'Code postal', 'Surface Carrez du 1er lot',\n",
    "        'Surface Carrez du 2eme lot', 'Surface Carrez du 3eme lot',\n",
    "         'Surface Carrez du 4eme lot', 'Surface Carrez du 5eme lot',\n",
    "        'Nombre de lots', 'Code type local', 'Surface reelle bati',\n",
    "        'Nombre pieces principales', 'Surface terrain']\n",
    "df = df[cols]\n",
    "\n",
    "#Suppression desn lignes qui n'ont pas de Valeur fonciere ou de code postal\n",
    "df.dropna(subset=['Valeur fonciere','Code postal'],inplace=True)\n",
    "#Recuperation des valeur qui concerne que les Vente 'classiques'\n",
    "df=df[df['Nature mutation'] == 'Vente']\n",
    "\n",
    "\n",
    "# Fonction pour nettoyer et convertir les chaînes en float\n",
    "def convert_to_float(value):\n",
    "    if pd.isna(value):\n",
    "        return 0.\n",
    "    return float(value.replace(',', '.'))\n",
    "\n",
    "# Appliquer la fonction de conversion à la colonne\n",
    "carrez_cols = ['Surface Carrez du 1er lot', 'Surface Carrez du 2eme lot',\n",
    "               'Surface Carrez du 3eme lot', 'Surface Carrez du 4eme lot',\n",
    "               'Surface Carrez du 5eme lot']\n",
    "\n",
    "\n",
    "\n",
    "for col in carrez_cols:\n",
    "    df[col] = df[col].apply(convert_to_float)\n",
    "\n",
    "df['Somme surface carrez']= df[carrez_cols].sum(axis=1)\n",
    "\n",
    "# Supprimer les colonnes contenant les surfaces carrez\n",
    "df.drop(columns=carrez_cols, inplace=True)\n",
    "\n",
    "#Conversion des valeurs fonciere en float\n",
    "df['Valeur fonciere']=df['Valeur fonciere'].apply(convert_to_float)\n"
   ]
  },
  {
   "cell_type": "code",
   "execution_count": 7,
   "metadata": {},
   "outputs": [
    {
     "data": {
      "text/plain": [
       "No disposition                 int64\n",
       "Date mutation                 object\n",
       "Nature mutation               object\n",
       "Valeur fonciere               object\n",
       "Type de voie                  object\n",
       "Code postal                  float64\n",
       "Nombre de lots                 int64\n",
       "Code type local              float64\n",
       "Surface reelle bati          float64\n",
       "Nombre pieces principales    float64\n",
       "Surface terrain              float64\n",
       "Somme surface carrez         float64\n",
       "dtype: object"
      ]
     },
     "execution_count": 7,
     "metadata": {},
     "output_type": "execute_result"
    }
   ],
   "source": [
    "df.dtypes"
   ]
  }
 ],
 "metadata": {
  "kernelspec": {
   "display_name": "projimmo",
   "language": "python",
   "name": "python3"
  },
  "language_info": {
   "codemirror_mode": {
    "name": "ipython",
    "version": 3
   },
   "file_extension": ".py",
   "mimetype": "text/x-python",
   "name": "python",
   "nbconvert_exporter": "python",
   "pygments_lexer": "ipython3",
   "version": "3.10.6"
  }
 },
 "nbformat": 4,
 "nbformat_minor": 2
}
