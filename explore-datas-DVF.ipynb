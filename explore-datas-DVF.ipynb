{
 "cells": [
  {
   "cell_type": "markdown",
   "metadata": {},
   "source": [
    "#Etude des données"
   ]
  },
  {
   "cell_type": "code",
   "execution_count": 2,
   "metadata": {},
   "outputs": [
    {
     "name": "stderr",
     "output_type": "stream",
     "text": [
      "/tmp/ipykernel_21727/2479395623.py:7: DtypeWarning: Columns (14,18,23,24,26,28,29,31,32,33,41) have mixed types. Specify dtype option on import or set low_memory=False.\n",
      "  df = pd.read_csv(\"raw_data/valeursfoncieres-2023.txt\", sep=\"|\")\n"
     ]
    }
   ],
   "source": [
    "# Read Text Files with Pandas using read_csv()\n",
    "\n",
    "# importing pandas\n",
    "import pandas as pd\n",
    "\n",
    "# read text file into pandas DataFrame\n",
    "df = pd.read_csv(\"raw_data/valeursfoncieres-2023.txt\", sep=\"|\")\n"
   ]
  },
  {
   "cell_type": "code",
   "execution_count": 3,
   "metadata": {},
   "outputs": [
    {
     "name": "stdout",
     "output_type": "stream",
     "text": [
      "   Identifiant de document  Reference document  1 Articles CGI  \\\n",
      "0                      NaN                 NaN             NaN   \n",
      "1                      NaN                 NaN             NaN   \n",
      "2                      NaN                 NaN             NaN   \n",
      "3                      NaN                 NaN             NaN   \n",
      "4                      NaN                 NaN             NaN   \n",
      "\n",
      "   2 Articles CGI  3 Articles CGI  4 Articles CGI  5 Articles CGI  \\\n",
      "0             NaN             NaN             NaN             NaN   \n",
      "1             NaN             NaN             NaN             NaN   \n",
      "2             NaN             NaN             NaN             NaN   \n",
      "3             NaN             NaN             NaN             NaN   \n",
      "4             NaN             NaN             NaN             NaN   \n",
      "\n",
      "   No disposition Date mutation Nature mutation  ...  \\\n",
      "0               1    05/01/2023           Vente  ...   \n",
      "1               1    05/01/2023           Vente  ...   \n",
      "2               1    05/01/2023           Vente  ...   \n",
      "3               1    03/01/2023           Vente  ...   \n",
      "4               1    05/01/2023           Vente  ...   \n",
      "\n",
      "  Surface Carrez du 5eme lot  Nombre de lots Code type local   Type local  \\\n",
      "0                        NaN               1             3.0   Dépendance   \n",
      "1                        NaN               1             3.0   Dépendance   \n",
      "2                        NaN               1             2.0  Appartement   \n",
      "3                        NaN               0             1.0       Maison   \n",
      "4                        NaN               0             1.0       Maison   \n",
      "\n",
      "  Identifiant local Surface reelle bati  Nombre pieces principales  \\\n",
      "0               NaN                 0.0                        0.0   \n",
      "1               NaN                 0.0                        0.0   \n",
      "2               NaN               233.0                        8.0   \n",
      "3               NaN                64.0                        3.0   \n",
      "4               NaN                73.0                        3.0   \n",
      "\n",
      "  Nature culture Nature culture speciale  Surface terrain  \n",
      "0            NaN                     NaN              NaN  \n",
      "1            NaN                     NaN              NaN  \n",
      "2            NaN                     NaN              NaN  \n",
      "3              S                     NaN            988.0  \n",
      "4              S                     NaN            835.0  \n",
      "\n",
      "[5 rows x 43 columns]\n"
     ]
    }
   ],
   "source": [
    "\n",
    "# display DataFrame\n",
    "print(df.head())"
   ]
  },
  {
   "cell_type": "code",
   "execution_count": 4,
   "metadata": {},
   "outputs": [
    {
     "name": "stdout",
     "output_type": "stream",
     "text": [
      "(3727005, 43)\n"
     ]
    }
   ],
   "source": [
    "print(df.shape)"
   ]
  },
  {
   "cell_type": "code",
   "execution_count": 4,
   "metadata": {},
   "outputs": [
    {
     "data": {
      "text/plain": [
       "Identifiant de document       3727005\n",
       "Reference document            3727005\n",
       "1 Articles CGI                3727005\n",
       "2 Articles CGI                3727005\n",
       "3 Articles CGI                3727005\n",
       "4 Articles CGI                3727005\n",
       "5 Articles CGI                3727005\n",
       "No disposition                      0\n",
       "Date mutation                       0\n",
       "Nature mutation                     0\n",
       "Valeur fonciere                 32379\n",
       "No voie                       1415647\n",
       "B/T/Q                         3562235\n",
       "Type de voie                  1506492\n",
       "Code voie                       28260\n",
       "Voie                            28793\n",
       "Code postal                     28508\n",
       "Commune                             0\n",
       "Code departement                    0\n",
       "Code commune                        0\n",
       "Prefixe de section            3554808\n",
       "Section                           177\n",
       "No plan                             0\n",
       "No Volume                     3718739\n",
       "1er lot                       2575704\n",
       "Surface Carrez du 1er lot     3396909\n",
       "2eme lot                      3367072\n",
       "Surface Carrez du 2eme lot    3618348\n",
       "3eme lot                      3662987\n",
       "Surface Carrez du 3eme lot    3714834\n",
       "4eme lot                      3707028\n",
       "Surface Carrez du 4eme lot    3724176\n",
       "5eme lot                      3718560\n",
       "Surface Carrez du 5eme lot    3726084\n",
       "Nombre de lots                      0\n",
       "Code type local               1584464\n",
       "Type local                    1584464\n",
       "Identifiant local             3727005\n",
       "Surface reelle bati           1586935\n",
       "Nombre pieces principales     1586935\n",
       "Nature culture                1170517\n",
       "Nature culture speciale       3561084\n",
       "Surface terrain               1170517\n",
       "dtype: int64"
      ]
     },
     "execution_count": 4,
     "metadata": {},
     "output_type": "execute_result"
    }
   ],
   "source": [
    "# Check missing reviews?\n",
    "df.isna().sum()"
   ]
  },
  {
   "cell_type": "code",
   "execution_count": 6,
   "metadata": {},
   "outputs": [
    {
     "data": {
      "text/plain": [
       "Index(['Identifiant de document', 'Reference document', '1 Articles CGI',\n",
       "       '2 Articles CGI', '3 Articles CGI', '4 Articles CGI', '5 Articles CGI',\n",
       "       'No disposition', 'Date mutation', 'Nature mutation', 'Valeur fonciere',\n",
       "       'No voie', 'B/T/Q', 'Type de voie', 'Code voie', 'Voie', 'Code postal',\n",
       "       'Commune', 'Code departement', 'Code commune', 'Prefixe de section',\n",
       "       'Section', 'No plan', 'No Volume', '1er lot',\n",
       "       'Surface Carrez du 1er lot', '2eme lot', 'Surface Carrez du 2eme lot',\n",
       "       '3eme lot', 'Surface Carrez du 3eme lot', '4eme lot',\n",
       "       'Surface Carrez du 4eme lot', '5eme lot', 'Surface Carrez du 5eme lot',\n",
       "       'Nombre de lots', 'Code type local', 'Type local', 'Identifiant local',\n",
       "       'Surface reelle bati', 'Nombre pieces principales', 'Nature culture',\n",
       "       'Nature culture speciale', 'Surface terrain'],\n",
       "      dtype='object')"
      ]
     },
     "execution_count": 6,
     "metadata": {},
     "output_type": "execute_result"
    }
   ],
   "source": [
    "df.columns"
   ]
  },
  {
   "cell_type": "code",
   "execution_count": 7,
   "metadata": {},
   "outputs": [
    {
     "data": {
      "text/plain": [
       "Identifiant de document       float64\n",
       "Reference document            float64\n",
       "1 Articles CGI                float64\n",
       "2 Articles CGI                float64\n",
       "3 Articles CGI                float64\n",
       "4 Articles CGI                float64\n",
       "5 Articles CGI                float64\n",
       "No disposition                  int64\n",
       "Date mutation                  object\n",
       "Nature mutation                object\n",
       "Valeur fonciere                object\n",
       "No voie                       float64\n",
       "B/T/Q                          object\n",
       "Type de voie                   object\n",
       "Code voie                      object\n",
       "Voie                           object\n",
       "Code postal                   float64\n",
       "Commune                        object\n",
       "Code departement               object\n",
       "Code commune                    int64\n",
       "Prefixe de section            float64\n",
       "Section                        object\n",
       "No plan                         int64\n",
       "No Volume                      object\n",
       "1er lot                        object\n",
       "Surface Carrez du 1er lot      object\n",
       "2eme lot                       object\n",
       "Surface Carrez du 2eme lot     object\n",
       "3eme lot                       object\n",
       "Surface Carrez du 3eme lot     object\n",
       "4eme lot                      float64\n",
       "Surface Carrez du 4eme lot     object\n",
       "5eme lot                       object\n",
       "Surface Carrez du 5eme lot     object\n",
       "Nombre de lots                  int64\n",
       "Code type local               float64\n",
       "Type local                     object\n",
       "Identifiant local             float64\n",
       "Surface reelle bati           float64\n",
       "Nombre pieces principales     float64\n",
       "Nature culture                 object\n",
       "Nature culture speciale        object\n",
       "Surface terrain               float64\n",
       "dtype: object"
      ]
     },
     "execution_count": 7,
     "metadata": {},
     "output_type": "execute_result"
    }
   ],
   "source": [
    "df.dtypes"
   ]
  }
 ],
 "metadata": {
  "kernelspec": {
   "display_name": "projimmo",
   "language": "python",
   "name": "python3"
  },
  "language_info": {
   "codemirror_mode": {
    "name": "ipython",
    "version": 3
   },
   "file_extension": ".py",
   "mimetype": "text/x-python",
   "name": "python",
   "nbconvert_exporter": "python",
   "pygments_lexer": "ipython3",
   "version": "3.10.6"
  }
 },
 "nbformat": 4,
 "nbformat_minor": 2
}
