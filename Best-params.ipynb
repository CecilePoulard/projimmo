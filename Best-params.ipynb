{
 "cells": [
  {
   "cell_type": "code",
   "execution_count": 1,
   "metadata": {},
   "outputs": [],
   "source": [
    "import pandas as pd\n",
    "from pathlib import Path\n",
    "import seaborn as sns\n",
    "from scipy import stats\n",
    "import matplotlib.pyplot as plt\n",
    "from sklearn.inspection import permutation_importance\n",
    "from sklearn.decomposition import PCA\n",
    "from sklearn.pipeline import make_pipeline\n",
    "from projimmo.data import *\n",
    "from projimmo.preprocessor import *\n",
    "from projimmo.model import *\n",
    "from projimmo.optimize_model import *"
   ]
  },
  {
   "cell_type": "code",
   "execution_count": 2,
   "metadata": {},
   "outputs": [
    {
     "name": "stdout",
     "output_type": "stream",
     "text": [
      "\u001b[34m\n",
      "Load data from local CSV...\u001b[0m\n",
      "✅ Data loaded, with shape (3727005, 43)\n",
      "✅ X_processed, with shape (75169, 40)\n"
     ]
    }
   ],
   "source": [
    "query = f\"\"\"\n",
    "        SELECT *\n",
    "        FROM `{GCP_PROJECT}`.{BQ_DATASET}.DVF_{DATA_YEAR}\n",
    "    \"\"\"\n",
    "#chemin d'accès à nos fichiers locaux\n",
    "data_query_cache_path=Path(f\"raw_data/valeursfoncieres-2023.txt\")\n",
    "\n",
    "# import de nos data, ici à partir du fichier mais plus tard dans la base de data de bigquer\n",
    "df= get_data_with_cache(query=query,\n",
    "gcp_project=GCP_PROJECT,\n",
    "        cache_path=data_query_cache_path,\n",
    "        data_has_header=True\n",
    "   )\n",
    "\n",
    "#Pour écrire dans big query le df notre choix\n",
    "#load_data_to_bq(\n",
    "#        df_de_notre_choix,\n",
    " #       gcp_project=GCP_PROJECT,\n",
    " #       bq_dataset=BQ_DATASET,\n",
    " #       table=f'processed_{DATA_SIZE}',\n",
    " #       truncate=True\n",
    "  #  )\n",
    "#appel à la fonction clean_data\n",
    "df_0=clean_data(df)\n",
    "#appel à la fonction clean_outliers\n",
    "df_1=clean_outliers(df_0)\n",
    "#on passe notre df dans la pipeline\n",
    "X_1=df_1.drop(columns=\"valeur_fonciere\")\n",
    "y_1=df_1.valeur_fonciere\n",
    "df_2=preprocess_features(X_1)\n"
   ]
  },
  {
   "cell_type": "code",
   "execution_count": 3,
   "metadata": {},
   "outputs": [
    {
     "data": {
      "text/html": [
       "<div>\n",
       "<style scoped>\n",
       "    .dataframe tbody tr th:only-of-type {\n",
       "        vertical-align: middle;\n",
       "    }\n",
       "\n",
       "    .dataframe tbody tr th {\n",
       "        vertical-align: top;\n",
       "    }\n",
       "\n",
       "    .dataframe thead th {\n",
       "        text-align: right;\n",
       "    }\n",
       "</style>\n",
       "<table border=\"1\" class=\"dataframe\">\n",
       "  <thead>\n",
       "    <tr style=\"text-align: right;\">\n",
       "      <th></th>\n",
       "      <th>type_de_voie</th>\n",
       "      <th>nombre_de_lots</th>\n",
       "      <th>code_type_local</th>\n",
       "      <th>surface_reelle_bati</th>\n",
       "      <th>nombre_pieces_principales</th>\n",
       "      <th>surface_terrain</th>\n",
       "      <th>month_mutation</th>\n",
       "      <th>year_mutation</th>\n",
       "      <th>somme_surface_carrez</th>\n",
       "      <th>departement</th>\n",
       "    </tr>\n",
       "  </thead>\n",
       "  <tbody>\n",
       "    <tr>\n",
       "      <th>654</th>\n",
       "      <td>RUE</td>\n",
       "      <td>1</td>\n",
       "      <td>2</td>\n",
       "      <td>95.0</td>\n",
       "      <td>4.0</td>\n",
       "      <td>0.0</td>\n",
       "      <td>1</td>\n",
       "      <td>2023</td>\n",
       "      <td>97.70</td>\n",
       "      <td>13</td>\n",
       "    </tr>\n",
       "    <tr>\n",
       "      <th>1027</th>\n",
       "      <td>RUE</td>\n",
       "      <td>2</td>\n",
       "      <td>2</td>\n",
       "      <td>95.0</td>\n",
       "      <td>4.0</td>\n",
       "      <td>0.0</td>\n",
       "      <td>1</td>\n",
       "      <td>2023</td>\n",
       "      <td>94.79</td>\n",
       "      <td>13</td>\n",
       "    </tr>\n",
       "    <tr>\n",
       "      <th>1598</th>\n",
       "      <td>RUE</td>\n",
       "      <td>1</td>\n",
       "      <td>2</td>\n",
       "      <td>45.0</td>\n",
       "      <td>2.0</td>\n",
       "      <td>0.0</td>\n",
       "      <td>1</td>\n",
       "      <td>2023</td>\n",
       "      <td>46.87</td>\n",
       "      <td>13</td>\n",
       "    </tr>\n",
       "    <tr>\n",
       "      <th>2101</th>\n",
       "      <td>AUTRE</td>\n",
       "      <td>1</td>\n",
       "      <td>2</td>\n",
       "      <td>58.0</td>\n",
       "      <td>3.0</td>\n",
       "      <td>0.0</td>\n",
       "      <td>1</td>\n",
       "      <td>2023</td>\n",
       "      <td>60.30</td>\n",
       "      <td>13</td>\n",
       "    </tr>\n",
       "    <tr>\n",
       "      <th>2112</th>\n",
       "      <td>RUE</td>\n",
       "      <td>1</td>\n",
       "      <td>2</td>\n",
       "      <td>65.0</td>\n",
       "      <td>3.0</td>\n",
       "      <td>0.0</td>\n",
       "      <td>2</td>\n",
       "      <td>2023</td>\n",
       "      <td>64.20</td>\n",
       "      <td>13</td>\n",
       "    </tr>\n",
       "    <tr>\n",
       "      <th>2268</th>\n",
       "      <td>RUE</td>\n",
       "      <td>1</td>\n",
       "      <td>2</td>\n",
       "      <td>93.0</td>\n",
       "      <td>3.0</td>\n",
       "      <td>0.0</td>\n",
       "      <td>1</td>\n",
       "      <td>2023</td>\n",
       "      <td>109.20</td>\n",
       "      <td>13</td>\n",
       "    </tr>\n",
       "    <tr>\n",
       "      <th>2564</th>\n",
       "      <td>RUE</td>\n",
       "      <td>1</td>\n",
       "      <td>2</td>\n",
       "      <td>61.0</td>\n",
       "      <td>2.0</td>\n",
       "      <td>0.0</td>\n",
       "      <td>1</td>\n",
       "      <td>2023</td>\n",
       "      <td>67.23</td>\n",
       "      <td>13</td>\n",
       "    </tr>\n",
       "    <tr>\n",
       "      <th>2781</th>\n",
       "      <td>RTE</td>\n",
       "      <td>1</td>\n",
       "      <td>2</td>\n",
       "      <td>100.0</td>\n",
       "      <td>5.0</td>\n",
       "      <td>0.0</td>\n",
       "      <td>1</td>\n",
       "      <td>2023</td>\n",
       "      <td>120.67</td>\n",
       "      <td>13</td>\n",
       "    </tr>\n",
       "    <tr>\n",
       "      <th>2998</th>\n",
       "      <td>RUE</td>\n",
       "      <td>1</td>\n",
       "      <td>2</td>\n",
       "      <td>80.0</td>\n",
       "      <td>4.0</td>\n",
       "      <td>0.0</td>\n",
       "      <td>1</td>\n",
       "      <td>2023</td>\n",
       "      <td>76.65</td>\n",
       "      <td>13</td>\n",
       "    </tr>\n",
       "    <tr>\n",
       "      <th>3374</th>\n",
       "      <td>RTE</td>\n",
       "      <td>1</td>\n",
       "      <td>2</td>\n",
       "      <td>48.0</td>\n",
       "      <td>3.0</td>\n",
       "      <td>0.0</td>\n",
       "      <td>1</td>\n",
       "      <td>2023</td>\n",
       "      <td>39.03</td>\n",
       "      <td>13</td>\n",
       "    </tr>\n",
       "    <tr>\n",
       "      <th>3757</th>\n",
       "      <td>AV</td>\n",
       "      <td>1</td>\n",
       "      <td>2</td>\n",
       "      <td>119.0</td>\n",
       "      <td>4.0</td>\n",
       "      <td>0.0</td>\n",
       "      <td>2</td>\n",
       "      <td>2023</td>\n",
       "      <td>116.22</td>\n",
       "      <td>13</td>\n",
       "    </tr>\n",
       "    <tr>\n",
       "      <th>3780</th>\n",
       "      <td>AV</td>\n",
       "      <td>2</td>\n",
       "      <td>2</td>\n",
       "      <td>87.0</td>\n",
       "      <td>4.0</td>\n",
       "      <td>0.0</td>\n",
       "      <td>1</td>\n",
       "      <td>2023</td>\n",
       "      <td>86.14</td>\n",
       "      <td>13</td>\n",
       "    </tr>\n",
       "    <tr>\n",
       "      <th>3964</th>\n",
       "      <td>RTE</td>\n",
       "      <td>1</td>\n",
       "      <td>2</td>\n",
       "      <td>73.0</td>\n",
       "      <td>3.0</td>\n",
       "      <td>0.0</td>\n",
       "      <td>2</td>\n",
       "      <td>2023</td>\n",
       "      <td>74.40</td>\n",
       "      <td>13</td>\n",
       "    </tr>\n",
       "    <tr>\n",
       "      <th>4218</th>\n",
       "      <td>RTE</td>\n",
       "      <td>1</td>\n",
       "      <td>2</td>\n",
       "      <td>68.0</td>\n",
       "      <td>2.0</td>\n",
       "      <td>0.0</td>\n",
       "      <td>2</td>\n",
       "      <td>2023</td>\n",
       "      <td>107.02</td>\n",
       "      <td>13</td>\n",
       "    </tr>\n",
       "    <tr>\n",
       "      <th>4402</th>\n",
       "      <td>RUE</td>\n",
       "      <td>1</td>\n",
       "      <td>2</td>\n",
       "      <td>96.0</td>\n",
       "      <td>5.0</td>\n",
       "      <td>0.0</td>\n",
       "      <td>2</td>\n",
       "      <td>2023</td>\n",
       "      <td>93.50</td>\n",
       "      <td>13</td>\n",
       "    </tr>\n",
       "    <tr>\n",
       "      <th>5282</th>\n",
       "      <td>PL</td>\n",
       "      <td>1</td>\n",
       "      <td>2</td>\n",
       "      <td>60.0</td>\n",
       "      <td>1.0</td>\n",
       "      <td>0.0</td>\n",
       "      <td>2</td>\n",
       "      <td>2023</td>\n",
       "      <td>55.95</td>\n",
       "      <td>13</td>\n",
       "    </tr>\n",
       "    <tr>\n",
       "      <th>5863</th>\n",
       "      <td>RTE</td>\n",
       "      <td>3</td>\n",
       "      <td>2</td>\n",
       "      <td>59.0</td>\n",
       "      <td>3.0</td>\n",
       "      <td>0.0</td>\n",
       "      <td>3</td>\n",
       "      <td>2023</td>\n",
       "      <td>58.32</td>\n",
       "      <td>13</td>\n",
       "    </tr>\n",
       "    <tr>\n",
       "      <th>6246</th>\n",
       "      <td>AUTRE</td>\n",
       "      <td>1</td>\n",
       "      <td>2</td>\n",
       "      <td>84.0</td>\n",
       "      <td>4.0</td>\n",
       "      <td>0.0</td>\n",
       "      <td>3</td>\n",
       "      <td>2023</td>\n",
       "      <td>66.01</td>\n",
       "      <td>13</td>\n",
       "    </tr>\n",
       "    <tr>\n",
       "      <th>6482</th>\n",
       "      <td>AUTRE</td>\n",
       "      <td>1</td>\n",
       "      <td>2</td>\n",
       "      <td>90.0</td>\n",
       "      <td>4.0</td>\n",
       "      <td>0.0</td>\n",
       "      <td>3</td>\n",
       "      <td>2023</td>\n",
       "      <td>100.32</td>\n",
       "      <td>13</td>\n",
       "    </tr>\n",
       "    <tr>\n",
       "      <th>6565</th>\n",
       "      <td>CHE</td>\n",
       "      <td>1</td>\n",
       "      <td>2</td>\n",
       "      <td>64.0</td>\n",
       "      <td>3.0</td>\n",
       "      <td>0.0</td>\n",
       "      <td>2</td>\n",
       "      <td>2023</td>\n",
       "      <td>64.00</td>\n",
       "      <td>13</td>\n",
       "    </tr>\n",
       "  </tbody>\n",
       "</table>\n",
       "</div>"
      ],
      "text/plain": [
       "     type_de_voie  nombre_de_lots  code_type_local  surface_reelle_bati  \\\n",
       "654           RUE               1                2                 95.0   \n",
       "1027          RUE               2                2                 95.0   \n",
       "1598          RUE               1                2                 45.0   \n",
       "2101        AUTRE               1                2                 58.0   \n",
       "2112          RUE               1                2                 65.0   \n",
       "2268          RUE               1                2                 93.0   \n",
       "2564          RUE               1                2                 61.0   \n",
       "2781          RTE               1                2                100.0   \n",
       "2998          RUE               1                2                 80.0   \n",
       "3374          RTE               1                2                 48.0   \n",
       "3757           AV               1                2                119.0   \n",
       "3780           AV               2                2                 87.0   \n",
       "3964          RTE               1                2                 73.0   \n",
       "4218          RTE               1                2                 68.0   \n",
       "4402          RUE               1                2                 96.0   \n",
       "5282           PL               1                2                 60.0   \n",
       "5863          RTE               3                2                 59.0   \n",
       "6246        AUTRE               1                2                 84.0   \n",
       "6482        AUTRE               1                2                 90.0   \n",
       "6565          CHE               1                2                 64.0   \n",
       "\n",
       "      nombre_pieces_principales  surface_terrain  month_mutation  \\\n",
       "654                         4.0              0.0               1   \n",
       "1027                        4.0              0.0               1   \n",
       "1598                        2.0              0.0               1   \n",
       "2101                        3.0              0.0               1   \n",
       "2112                        3.0              0.0               2   \n",
       "2268                        3.0              0.0               1   \n",
       "2564                        2.0              0.0               1   \n",
       "2781                        5.0              0.0               1   \n",
       "2998                        4.0              0.0               1   \n",
       "3374                        3.0              0.0               1   \n",
       "3757                        4.0              0.0               2   \n",
       "3780                        4.0              0.0               1   \n",
       "3964                        3.0              0.0               2   \n",
       "4218                        2.0              0.0               2   \n",
       "4402                        5.0              0.0               2   \n",
       "5282                        1.0              0.0               2   \n",
       "5863                        3.0              0.0               3   \n",
       "6246                        4.0              0.0               3   \n",
       "6482                        4.0              0.0               3   \n",
       "6565                        3.0              0.0               2   \n",
       "\n",
       "      year_mutation  somme_surface_carrez  departement  \n",
       "654            2023                 97.70           13  \n",
       "1027           2023                 94.79           13  \n",
       "1598           2023                 46.87           13  \n",
       "2101           2023                 60.30           13  \n",
       "2112           2023                 64.20           13  \n",
       "2268           2023                109.20           13  \n",
       "2564           2023                 67.23           13  \n",
       "2781           2023                120.67           13  \n",
       "2998           2023                 76.65           13  \n",
       "3374           2023                 39.03           13  \n",
       "3757           2023                116.22           13  \n",
       "3780           2023                 86.14           13  \n",
       "3964           2023                 74.40           13  \n",
       "4218           2023                107.02           13  \n",
       "4402           2023                 93.50           13  \n",
       "5282           2023                 55.95           13  \n",
       "5863           2023                 58.32           13  \n",
       "6246           2023                 66.01           13  \n",
       "6482           2023                100.32           13  \n",
       "6565           2023                 64.00           13  "
      ]
     },
     "execution_count": 3,
     "metadata": {},
     "output_type": "execute_result"
    }
   ],
   "source": [
    "X_1.head(20)"
   ]
  },
  {
   "cell_type": "code",
   "execution_count": 4,
   "metadata": {},
   "outputs": [
    {
     "data": {
      "text/plain": [
       "(75169, 40)"
      ]
     },
     "execution_count": 4,
     "metadata": {},
     "output_type": "execute_result"
    }
   ],
   "source": [
    "df_2.shape"
   ]
  },
  {
   "cell_type": "code",
   "execution_count": 5,
   "metadata": {},
   "outputs": [
    {
     "data": {
      "text/plain": [
       "(14.829675815259899, 9.90353755128617)"
      ]
     },
     "execution_count": 5,
     "metadata": {},
     "output_type": "execute_result"
    }
   ],
   "source": [
    "df_1.head(20)\n",
    "df_1.valeur_fonciere.max(),df_1.valeur_fonciere.min()"
   ]
  },
  {
   "cell_type": "code",
   "execution_count": 6,
   "metadata": {},
   "outputs": [
    {
     "name": "stdout",
     "output_type": "stream",
     "text": [
      "Nombre de valeurs égales à la valeur minimale : 24\n"
     ]
    }
   ],
   "source": [
    "min_value = df_1['valeur_fonciere'].min()\n",
    "\n",
    "# Compter combien de valeurs correspondent à la valeur minimale\n",
    "count_min = (df_1['valeur_fonciere'] == min_value).sum()\n",
    "\n",
    "print(f\"Nombre de valeurs égales à la valeur minimale : {count_min}\")"
   ]
  },
  {
   "cell_type": "code",
   "execution_count": 7,
   "metadata": {},
   "outputs": [
    {
     "data": {
      "text/plain": [
       "12.335978370375496"
      ]
     },
     "execution_count": 7,
     "metadata": {},
     "output_type": "execute_result"
    }
   ],
   "source": [
    "df_1.valeur_fonciere.mean()"
   ]
  },
  {
   "cell_type": "code",
   "execution_count": 8,
   "metadata": {},
   "outputs": [
    {
     "data": {
      "text/plain": [
       "12.274670105518968"
      ]
     },
     "execution_count": 8,
     "metadata": {},
     "output_type": "execute_result"
    }
   ],
   "source": [
    "df_1.valeur_fonciere.median()"
   ]
  },
  {
   "cell_type": "markdown",
   "metadata": {},
   "source": [
    "# 1. Baseline"
   ]
  },
  {
   "cell_type": "markdown",
   "metadata": {},
   "source": [
    "#### MOYENN: 325332.562380128\n",
    "#### MAX, MIN:(4503500.0, 1.0)\n",
    "#### MEDIAN: 215000.0"
   ]
  },
  {
   "cell_type": "code",
   "execution_count": 9,
   "metadata": {},
   "outputs": [],
   "source": [
    "def pre_model(X,y,model_type):\n",
    "    X_train,X_test,y_train,y_test=split_df(X,y)\n",
    "\n",
    "    model=initialize_model(model_type)\n",
    "    # Effectuer la validation croisée\n",
    "    cv_results = cross_validate_model(X_train, y_train, model)\n",
    "    print(\"\\nSans validation croisée:\")\n",
    "    fitted_model=train_model(X_train,y_train,model)\n",
    "    metrics=evaluate_model(X_test,y_test,fitted_model, model_type)\n",
    "    return metrics"
   ]
  },
  {
   "cell_type": "markdown",
   "metadata": {},
   "source": [
    "# 2. XGB sans optimisation des paramètres"
   ]
  },
  {
   "cell_type": "code",
   "execution_count": 10,
   "metadata": {},
   "outputs": [
    {
     "name": "stdout",
     "output_type": "stream",
     "text": [
      "Validation croisée :\n",
      "MSE moyen: 0.18\n",
      "Écart-type du MSE: 0.00\n",
      "\n",
      "Sans validation croisée:\n",
      "Mean Squared Error (MSE): 0.17775028171825272\n",
      "Mean Absolute Error (MAE): 0.29458525936133884\n",
      "R-squared (R²) Score: 0.6784112113360167\n",
      "Root Mean Squared Error (RMSE): 0.4216044137793777\n",
      "Mean Squared Logarithmic Error (MSLE): 0.001026622594306237\n"
     ]
    }
   ],
   "source": [
    "X=df_2.copy()\n",
    "y=y_1.copy()\n",
    "model_type=\"XGB\" #possible: \"KNR\",\"LR\",\"XGB\"\n",
    "metrics_xgb=pre_model(X,y,model_type)\n"
   ]
  },
  {
   "cell_type": "markdown",
   "metadata": {},
   "source": [
    "# 3. Opitmisation des paramètres"
   ]
  },
  {
   "cell_type": "code",
   "execution_count": 11,
   "metadata": {},
   "outputs": [
    {
     "name": "stdout",
     "output_type": "stream",
     "text": [
      "Fitting 5 folds for each of 36 candidates, totalling 180 fits\n",
      "Best parameters for XGB: {'eta': 0.2, 'max_depth': 6, 'n_estimators': 150}\n",
      "Best score for XGB: 0.17196578933909717\n"
     ]
    }
   ],
   "source": [
    "X=df_2.copy()\n",
    "y=y_1.copy()\n",
    "model_type=\"XGB\" #possible: \"KNR\",\"LR\",\"XGB\"\n",
    "X_train,X_test,y_train,y_test=split_df(X,y)\n",
    "\n",
    "model=initialize_model(model_type)\n",
    "best_params=grid_search(X_train, y_train, model_type,model)"
   ]
  },
  {
   "cell_type": "code",
   "execution_count": 12,
   "metadata": {},
   "outputs": [
    {
     "data": {
      "text/plain": [
       "0.2"
      ]
     },
     "execution_count": 12,
     "metadata": {},
     "output_type": "execute_result"
    }
   ],
   "source": [
    "best_params['eta']"
   ]
  },
  {
   "cell_type": "code",
   "execution_count": 13,
   "metadata": {},
   "outputs": [
    {
     "name": "stdout",
     "output_type": "stream",
     "text": [
      "Validation croisée :\n",
      "MSE moyen: 0.17\n",
      "Écart-type du MSE: 0.00\n",
      "Mean Squared Error (MSE): 0.1723250172699148\n",
      "Mean Absolute Error (MAE): 0.29131592604323575\n",
      "R-squared (R²) Score: 0.6882266906998595\n",
      "Root Mean Squared Error (RMSE): 0.4151204852448441\n",
      "Mean Squared Logarithmic Error (MSLE): 0.0009951005581652884\n"
     ]
    },
    {
     "data": {
      "text/plain": [
       "{'mse': 0.1723250172699148,\n",
       " 'mae': 0.29131592604323575,\n",
       " 'r2': 0.6882266906998595,\n",
       " 'rmse': 0.4151204852448441,\n",
       " 'msle': 0.0009951005581652884}"
      ]
     },
     "execution_count": 13,
     "metadata": {},
     "output_type": "execute_result"
    }
   ],
   "source": [
    "eta=best_params['eta']\n",
    "max_depth=best_params['max_depth']\n",
    "n_estimators=best_params['n_estimators']\n",
    "model_type=\"XGB\"\n",
    "n_components=35\n",
    "X=df_2.copy()\n",
    "y=y_1.copy()\n",
    "model_type=\"XGB\" #possible: \"KNR\",\"LR\",\"XGB\"\n",
    "model_XGB_opti=initialize_model(model_type, max_depth=max_depth, eta=eta, n_estimators=n_estimators)\n",
    "\n",
    "X_train,X_test,y_train,y_test=split_df(X,y)\n",
    "\n",
    "# Validation croisée sur les données transformées par PCA\n",
    "cv_results_XGB_opti = cross_validate_model(X_train, y_train, model_XGB_opti)\n",
    "\n",
    "# Entraîner le modèle sur les données réduites\n",
    "fitted_model_XGB_opti = train_model(X_train, y_train, model_XGB_opti)\n",
    "\n",
    "# Évaluer le modèle sur les données de test transformées\n",
    "metrics_XGB_opti = evaluate_model(X_test, y_test, fitted_model_XGB_opti, model_type)\n",
    "\n",
    "\n",
    "metrics_XGB_opti"
   ]
  },
  {
   "cell_type": "code",
   "execution_count": 14,
   "metadata": {},
   "outputs": [
    {
     "data": {
      "text/html": [
       "<div>\n",
       "<style scoped>\n",
       "    .dataframe tbody tr th:only-of-type {\n",
       "        vertical-align: middle;\n",
       "    }\n",
       "\n",
       "    .dataframe tbody tr th {\n",
       "        vertical-align: top;\n",
       "    }\n",
       "\n",
       "    .dataframe thead th {\n",
       "        text-align: right;\n",
       "    }\n",
       "</style>\n",
       "<table border=\"1\" class=\"dataframe\">\n",
       "  <thead>\n",
       "    <tr style=\"text-align: right;\">\n",
       "      <th></th>\n",
       "      <th>mse</th>\n",
       "      <th>mae</th>\n",
       "      <th>r2</th>\n",
       "      <th>rmse</th>\n",
       "      <th>msle</th>\n",
       "    </tr>\n",
       "  </thead>\n",
       "  <tbody>\n",
       "    <tr>\n",
       "      <th>XGB</th>\n",
       "      <td>0.177750</td>\n",
       "      <td>0.294585</td>\n",
       "      <td>0.678411</td>\n",
       "      <td>0.421604</td>\n",
       "      <td>0.001027</td>\n",
       "    </tr>\n",
       "    <tr>\n",
       "      <th>XGB avec meilleurs paramètres</th>\n",
       "      <td>0.172325</td>\n",
       "      <td>0.291316</td>\n",
       "      <td>0.688227</td>\n",
       "      <td>0.415120</td>\n",
       "      <td>0.000995</td>\n",
       "    </tr>\n",
       "  </tbody>\n",
       "</table>\n",
       "</div>"
      ],
      "text/plain": [
       "                                    mse       mae        r2      rmse  \\\n",
       "XGB                            0.177750  0.294585  0.678411  0.421604   \n",
       "XGB avec meilleurs paramètres  0.172325  0.291316  0.688227  0.415120   \n",
       "\n",
       "                                   msle  \n",
       "XGB                            0.001027  \n",
       "XGB avec meilleurs paramètres  0.000995  "
      ]
     },
     "execution_count": 14,
     "metadata": {},
     "output_type": "execute_result"
    }
   ],
   "source": [
    "df_xgb_opti = pd.DataFrame(metrics_XGB_opti, index=[0])\n",
    "df_xgb = pd.DataFrame(metrics_xgb, index=[0])\n",
    "\n",
    "# Créer un DataFrame pour stocker les résultats\n",
    "compa = pd.DataFrame()\n",
    "\n",
    "# Ajouter les résultats des modèles\n",
    "compa = pd.concat([\n",
    "    compa,\n",
    "    df_xgb.rename(index={0: 'XGB'}),\n",
    "    df_xgb_opti.rename(index={0: 'XGB avec meilleurs paramètres'}),\n",
    "])\n",
    "compa"
   ]
  },
  {
   "cell_type": "markdown",
   "metadata": {},
   "source": []
  }
 ],
 "metadata": {
  "kernelspec": {
   "display_name": "projimmo",
   "language": "python",
   "name": "python3"
  },
  "language_info": {
   "codemirror_mode": {
    "name": "ipython",
    "version": 3
   },
   "file_extension": ".py",
   "mimetype": "text/x-python",
   "name": "python",
   "nbconvert_exporter": "python",
   "pygments_lexer": "ipython3",
   "version": "3.10.6"
  }
 },
 "nbformat": 4,
 "nbformat_minor": 2
}
